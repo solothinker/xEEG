{
 "cells": [
  {
   "cell_type": "code",
   "execution_count": 1,
   "id": "7db3dc1a-49f3-4599-8cfa-3d6282a9ba56",
   "metadata": {},
   "outputs": [],
   "source": [
    "import os\n",
    "import scipy.io\n",
    "import numpy as np\n",
    "import matplotlib.pyplot as plt\n",
    "import scipy.signal as signal\n",
    "from scipy.signal import butter, lfilter, freqz\n",
    "from sklearn.decomposition import PCA, FastICA\n",
    "from meegkit import dss\n",
    "import pandas as pd"
   ]
  },
  {
   "cell_type": "code",
   "execution_count": 2,
   "id": "c4fe3011-a5ac-49be-84b3-db40bbe7052d",
   "metadata": {},
   "outputs": [],
   "source": [
    "folderPath = os.path.join(os.getcwd(), 'SSVEP_BCI_Dataset')"
   ]
  },
  {
   "cell_type": "code",
   "execution_count": 3,
   "id": "ef888203-fea6-48f7-b2a7-ecdcb3dd13cd",
   "metadata": {},
   "outputs": [],
   "source": [
    "matFiles = [f for f in os.listdir(folderPath) if f.endswith('.mat')]\n",
    "matData = scipy.io.loadmat(os.path.join(folderPath,matFiles[1]))\n",
    "# for matFile in matFiles:\n",
    "#     matData = scipy.io.loadmat(os.path.join(folderPath,matFile))\n",
    "    # print(os.path.join(folderPath,matFile),'->',matData['data'].shape)"
   ]
  },
  {
   "cell_type": "code",
   "execution_count": 4,
   "id": "866453eb-c066-4fe9-bee8-37721bed7077",
   "metadata": {},
   "outputs": [
    {
     "data": {
      "text/html": [
       "<div>\n",
       "<style scoped>\n",
       "    .dataframe tbody tr th:only-of-type {\n",
       "        vertical-align: middle;\n",
       "    }\n",
       "\n",
       "    .dataframe tbody tr th {\n",
       "        vertical-align: top;\n",
       "    }\n",
       "\n",
       "    .dataframe thead th {\n",
       "        text-align: right;\n",
       "    }\n",
       "</style>\n",
       "<table border=\"1\" class=\"dataframe\">\n",
       "  <thead>\n",
       "    <tr style=\"text-align: right;\">\n",
       "      <th></th>\n",
       "      <th>Character</th>\n",
       "      <th>Frequency(Hz)</th>\n",
       "      <th>Phase（pi)</th>\n",
       "    </tr>\n",
       "  </thead>\n",
       "  <tbody>\n",
       "    <tr>\n",
       "      <th>0</th>\n",
       "      <td>1</td>\n",
       "      <td>9.25</td>\n",
       "      <td>0.0</td>\n",
       "    </tr>\n",
       "    <tr>\n",
       "      <th>1</th>\n",
       "      <td>2</td>\n",
       "      <td>11.25</td>\n",
       "      <td>0.0</td>\n",
       "    </tr>\n",
       "    <tr>\n",
       "      <th>2</th>\n",
       "      <td>3</td>\n",
       "      <td>13.25</td>\n",
       "      <td>0.0</td>\n",
       "    </tr>\n",
       "    <tr>\n",
       "      <th>3</th>\n",
       "      <td>4</td>\n",
       "      <td>9.75</td>\n",
       "      <td>0.5</td>\n",
       "    </tr>\n",
       "    <tr>\n",
       "      <th>4</th>\n",
       "      <td>5</td>\n",
       "      <td>11.75</td>\n",
       "      <td>0.5</td>\n",
       "    </tr>\n",
       "    <tr>\n",
       "      <th>5</th>\n",
       "      <td>6</td>\n",
       "      <td>13.75</td>\n",
       "      <td>0.5</td>\n",
       "    </tr>\n",
       "    <tr>\n",
       "      <th>6</th>\n",
       "      <td>7</td>\n",
       "      <td>10.25</td>\n",
       "      <td>1.0</td>\n",
       "    </tr>\n",
       "    <tr>\n",
       "      <th>7</th>\n",
       "      <td>8</td>\n",
       "      <td>12.25</td>\n",
       "      <td>1.0</td>\n",
       "    </tr>\n",
       "    <tr>\n",
       "      <th>8</th>\n",
       "      <td>9</td>\n",
       "      <td>14.25</td>\n",
       "      <td>1.0</td>\n",
       "    </tr>\n",
       "    <tr>\n",
       "      <th>9</th>\n",
       "      <td>0</td>\n",
       "      <td>10.75</td>\n",
       "      <td>1.5</td>\n",
       "    </tr>\n",
       "    <tr>\n",
       "      <th>10</th>\n",
       "      <td>*</td>\n",
       "      <td>12.75</td>\n",
       "      <td>1.5</td>\n",
       "    </tr>\n",
       "    <tr>\n",
       "      <th>11</th>\n",
       "      <td>#</td>\n",
       "      <td>14.75</td>\n",
       "      <td>1.5</td>\n",
       "    </tr>\n",
       "  </tbody>\n",
       "</table>\n",
       "</div>"
      ],
      "text/plain": [
       "   Character  Frequency(Hz)  Phase（pi)\n",
       "0          1           9.25        0.0\n",
       "1          2          11.25        0.0\n",
       "2          3          13.25        0.0\n",
       "3          4           9.75        0.5\n",
       "4          5          11.75        0.5\n",
       "5          6          13.75        0.5\n",
       "6          7          10.25        1.0\n",
       "7          8          12.25        1.0\n",
       "8          9          14.25        1.0\n",
       "9          0          10.75        1.5\n",
       "10         *          12.75        1.5\n",
       "11         #          14.75        1.5"
      ]
     },
     "execution_count": 4,
     "metadata": {},
     "output_type": "execute_result"
    }
   ],
   "source": [
    "colName = ['Character', 'Frequency(Hz)', 'Phase（pi)']\n",
    "characters = ['1','2','3','4','5','6','7','8','9','0','*','#']\n",
    "FreqHz = [9.25,11.25,13.25,9.75,11.75,13.75,10.25,12.25,14.25,10.75,12.75,14.75]\n",
    "PhasePi = [0,0,0,0.5,0.5,0.5,1,1,1,1.5,1.5,1.5]\n",
    "simInfo = pd.DataFrame()\n",
    "simInfo['Character'] = characters\n",
    "simInfo['Frequency(Hz)'] = FreqHz\n",
    "simInfo['Phase（pi)'] = PhasePi\n",
    "simInfo"
   ]
  },
  {
   "cell_type": "code",
   "execution_count": 5,
   "id": "aa26be9d-f89e-4286-b54d-2433e4a6dfc8",
   "metadata": {},
   "outputs": [],
   "source": [
    "channelInd = ['POz', 'PO3', 'PO4', 'PO5', 'PO6', 'Oz', 'O1', 'O2']"
   ]
  },
  {
   "cell_type": "code",
   "execution_count": 6,
   "id": "f9a9abf1-bb9d-46c2-9434-56c8f5884366",
   "metadata": {},
   "outputs": [
    {
     "data": {
      "text/plain": [
       "710"
      ]
     },
     "execution_count": 6,
     "metadata": {},
     "output_type": "execute_result"
    }
   ],
   "source": [
    "timeRange = np.arange(0,2.84,1/250)\n",
    "len(timeRange)"
   ]
  },
  {
   "cell_type": "code",
   "execution_count": null,
   "id": "041c5ed5-8102-4996-bcf2-3e04b7245599",
   "metadata": {},
   "outputs": [],
   "source": []
  }
 ],
 "metadata": {
  "kernelspec": {
   "display_name": "Python 3 (ipykernel)",
   "language": "python",
   "name": "python3"
  },
  "language_info": {
   "codemirror_mode": {
    "name": "ipython",
    "version": 3
   },
   "file_extension": ".py",
   "mimetype": "text/x-python",
   "name": "python",
   "nbconvert_exporter": "python",
   "pygments_lexer": "ipython3",
   "version": "3.12.4"
  }
 },
 "nbformat": 4,
 "nbformat_minor": 5
}
